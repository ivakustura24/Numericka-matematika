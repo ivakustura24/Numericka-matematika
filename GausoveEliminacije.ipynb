{
 "cells": [
  {
   "cell_type": "code",
   "execution_count": 2,
   "id": "aa8a85a3-e22e-450b-9c2a-7c510437f55c",
   "metadata": {},
   "outputs": [],
   "source": [
    "import numpy as np\n",
    "from numpy import linalg as LA\n",
    "import scipy.linalg"
   ]
  },
  {
   "cell_type": "code",
   "execution_count": 5,
   "id": "eb2c04af-f0c8-4fe4-851f-752f244fd19a",
   "metadata": {},
   "outputs": [
    {
     "name": "stdout",
     "output_type": "stream",
     "text": [
      "rjesenje: [0.3333333333333215, 2.96666666666665, -5.000000000000018]\n"
     ]
    }
   ],
   "source": [
    "# GAUSOVE ELIMINACIJE - s pivotiranjem \n",
    "import numpy as np\n",
    "from numpy import linalg as LA\n",
    "import scipy.linalg\n",
    "def gausove_eliminacije(A,b):\n",
    "    n = len(A)\n",
    "\n",
    "    # Forward elimination\n",
    "    for pivot_row in range(n-1):\n",
    "        for row in range(pivot_row+1, n):\n",
    "            factor = A[row][pivot_row] / A[pivot_row][pivot_row]\n",
    "            for col in range(pivot_row, n):\n",
    "                A[row][col] -= factor * A[pivot_row][col]\n",
    "            b[row] -= factor * b[pivot_row]\n",
    "    # Back substitution\n",
    "    x = [0] * n\n",
    "    for i in range(n-1, -1, -1):\n",
    "        x[i] = b[i] / A[i][i]\n",
    "        for j in range(i+1, n):\n",
    "            x[i] = x[i] - A[i][j] * x[j] / A[i][i]\n",
    "\n",
    "    return x\n",
    "A=np.array([[0.1, 1, -1],\n",
    "           [-3, 0, 2],\n",
    "           [-2, 1, 1]])\n",
    "b=np.array([8, -11, -3])\n",
    "rjesenje = gausove_eliminacije(A,b)\n",
    "print(\"rjesenje:\", rjesenje)"
   ]
  },
  {
   "cell_type": "code",
   "execution_count": 6,
   "id": "46351974-3791-4390-9ebe-102eb995b91c",
   "metadata": {},
   "outputs": [
    {
     "name": "stdout",
     "output_type": "stream",
     "text": [
      "[  8. 229.  -3.]\n"
     ]
    }
   ],
   "source": [
    "print(np.matmul(A,rjesenje))"
   ]
  },
  {
   "cell_type": "code",
   "execution_count": 13,
   "id": "6bef246d-defb-4365-80b8-b74ede3683f9",
   "metadata": {},
   "outputs": [
    {
     "name": "stdout",
     "output_type": "stream",
     "text": [
      "Solution: [-0.   2.5 -5.5]\n"
     ]
    }
   ],
   "source": [
    "# GAUSOVE ELIMINACIJE - parcijano pivotiranje \n",
    "#traži se najveći element po apsolutnoj vrijednosti u stupcu pivotiranja i zamjenjuje ga se s trenutnim pivotom \n",
    "def gauss_elimination_pivot(A, b):\n",
    "    n = len(b)\n",
    "\n",
    "    # Augmented matrix\n",
    "    M = np.concatenate((A, b.reshape(n, 1)), axis=1)\n",
    "    # Forward elimination\n",
    "    for i in range(n):\n",
    "        # Partial pivoting\n",
    "        max_row = i\n",
    "        for k in range(i+1, n):\n",
    "            if abs(M[k][i]) > abs(M[max_row][i]):\n",
    "                max_row = k\n",
    "        M[[i, max_row]] = M[[max_row, i]]  # Swap rows\n",
    "\n",
    "        # Elimination step\n",
    "        for j in range(i+1, n):\n",
    "            ratio = M[j][i] / M[i][i]\n",
    "            M[j] -= ratio * M[i]\n",
    "\n",
    "    # Back substitution\n",
    "    x = np.zeros(n)\n",
    "    for i in range(n-1, -1, -1):\n",
    "        x[i] = M[i][n] / M[i][i]\n",
    "        for k in range(i-1, -1, -1):\n",
    "            M[k][n] -= M[k][i] * x[i]\n",
    "\n",
    "    return x\n",
    "\n",
    "# Example usage:\n",
    "A=np.array([[0.1, 1, -1],\n",
    "           [-3, 0, 2],\n",
    "           [-2, 1, 1]])\n",
    "b = np.array([8, -11, -3])\n",
    "\n",
    "x = gauss_elimination_pivot(A, b)\n",
    "print(\"Solution:\", x)"
   ]
  },
  {
   "cell_type": "code",
   "execution_count": 14,
   "id": "5640dcee-4f34-4d1f-b312-714507d0cc70",
   "metadata": {},
   "outputs": [
    {
     "name": "stdout",
     "output_type": "stream",
     "text": [
      "[  8. -11.  -3.]\n"
     ]
    }
   ],
   "source": [
    "print(np.matmul(M,x))"
   ]
  },
  {
   "cell_type": "code",
   "execution_count": 21,
   "id": "5c7fa237-4756-4c65-8bf2-052a52f5c44e",
   "metadata": {},
   "outputs": [
    {
     "name": "stdout",
     "output_type": "stream",
     "text": [
      "Matrica A ne dopušta LU faktorizaciju.\n"
     ]
    }
   ],
   "source": [
    "# dopušta li matrica faktorizaciju ? \n",
    "# Matrica dopušta LU faktorizaciju ako i samo ako sve njene glavne podmatrice imaju ne-nula determinante.\n",
    "import numpy as np\n",
    "\n",
    "# Definicija matrice A\n",
    "A = np.array([[0, 0, 2, 2],\n",
    "              [2, 2, 4, 2],\n",
    "              [1, 2, 1, -1],\n",
    "              [-1, 1, -1, 5]])\n",
    "\n",
    "# Provjera determinanti glavnih podmatrica\n",
    "regularna = True\n",
    "n = A.shape[0]  # Veličina matrice A\n",
    "\n",
    "for i in range(1, n+1):\n",
    "    # Izračunavanje determinante glavne podmatrice\n",
    "    det_A_i = np.linalg.det(A[:i, :i])\n",
    "    \n",
    "    # Provjera jesu li sve determinante različite od nule\n",
    "    if det_A_i == 0:\n",
    "        regularna = False\n",
    "        break\n",
    "\n",
    "# Ispis rezultata\n",
    "if regularna:\n",
    "    print(\"Matrica A dopušta LU faktorizaciju.\")\n",
    "else:\n",
    "    print(\"Matrica A ne dopušta LU faktorizaciju.\")"
   ]
  },
  {
   "cell_type": "code",
   "execution_count": 39,
   "id": "0eacabf6-569c-4210-8937-541144b3c9fc",
   "metadata": {},
   "outputs": [
    {
     "name": "stdout",
     "output_type": "stream",
     "text": [
      "Matrica P (matrica permutacija):\n",
      "[[ 0.    0.    1.    0.  ]\n",
      " [ 1.    0.    0.    0.  ]\n",
      " [ 0.5   0.5  -0.75  1.  ]\n",
      " [-0.5   1.    0.    0.  ]]\n",
      "\n",
      "Matrica L (donjetrokutasta matrica):\n",
      "[[1. 0. 0. 0.]\n",
      " [0. 1. 0. 0.]\n",
      " [0. 0. 1. 0.]\n",
      " [0. 0. 0. 1.]]\n",
      "\n",
      "Matrica U (gornjetrokutasta matrica):\n",
      "[[ 2.   2.   4.   2. ]\n",
      " [ 0.   2.   1.   6. ]\n",
      " [ 0.   0.   2.   2. ]\n",
      " [ 0.   0.   0.  -3.5]]\n"
     ]
    }
   ],
   "source": [
    "import numpy as np\n",
    "import scipy.linalg as la\n",
    "\n",
    "# Definicija matrice A\n",
    "A = np.array([[0, 0, 2, 2],\n",
    "              [2, 2, 4, 2],\n",
    "              [1, 2, 1, -1],\n",
    "              [-1, 1, -1, 5]])\n",
    "\n",
    "# Izračunavanje PLU faktorizacije s parcijalnim pivotiranjem\n",
    "P, LU = la.lu(A, permute_l=True)\n",
    "\n",
    "# Razdvajanje matrice LU na L i U\n",
    "L = np.tril(LU, k=-1) + np.eye(A.shape[0])\n",
    "U = np.triu(LU)\n",
    "\n",
    "# Ispis rezultata\n",
    "print(\"Matrica P (matrica permutacija):\")\n",
    "print(P)\n",
    "print(\"\\nMatrica L (donjetrokutasta matrica):\")\n",
    "print(L)\n",
    "print(\"\\nMatrica U (gornjetrokutasta matrica):\")\n",
    "print(U)\n",
    "\n"
   ]
  },
  {
   "cell_type": "code",
   "execution_count": 40,
   "id": "987a6c4c-8fcd-4ec9-94cb-87006343fb84",
   "metadata": {},
   "outputs": [
    {
     "name": "stdout",
     "output_type": "stream",
     "text": [
      "Rješenje sustava Ax = b:\n",
      "[-2.375  6.875  0.25  -2.   ]\n"
     ]
    }
   ],
   "source": [
    "#Koristeći dobivenu PLU faktorizaciju od 𝐴, nađite 𝑥 ∈ ℝ4\n",
    "#koji je rješenje sustava 𝐴𝑥 = 𝑏, ako je 𝑏 = [2 8 6 −4]𝑇\n",
    "import numpy as np\n",
    "\n",
    "def forward_substitution(L, b):\n",
    "    n = len(b)\n",
    "    y = np.zeros(n)\n",
    "    for i in range(n):\n",
    "        y[i] = (b[i] - np.dot(L[i, :i], y[:i])) / L[i, i]\n",
    "    return y\n",
    "\n",
    "def backward_substitution(U, y):\n",
    "    n = len(y)\n",
    "    x = np.zeros(n)\n",
    "    for i in range(n-1, -1, -1):\n",
    "        x[i] = (y[i] - np.dot(U[i, i+1:], x[i+1:])) / U[i, i]\n",
    "    return x\n",
    "\n",
    "# Matrice P, L, U i vektor b\n",
    "P = np.array([[ 0. ,  0. ,  1. ,  0. ],\n",
    "              [ 1. ,  0. ,  0. ,  0. ],\n",
    "              [ 0.5,  0.5, -0.75,  1. ],\n",
    "              [-0.5,  1. ,  0. ,  0. ]])\n",
    "\n",
    "L = np.array([[1., 0., 0., 0.],\n",
    "              [0., 1., 0., 0.],\n",
    "              [0., 0., 1., 0.],\n",
    "              [0., 0., 0., 1.]])\n",
    "\n",
    "U = np.array([[ 2. ,  2. ,  4. ,  2. ],\n",
    "              [ 0. ,  2. ,  1. ,  6. ],\n",
    "              [ 0. ,  0. ,  2. ,  2. ],\n",
    "              [ 0. ,  0. ,  0. , -3.5]])\n",
    "\n",
    "b = np.array([2, 8, 6, -4])\n",
    "\n",
    "# Rješavanje sustava Ax = b\n",
    "y = forward_substitution(L, np.dot(P, b))\n",
    "x = backward_substitution(U, y)\n",
    "\n",
    "# Ispis rješenja\n",
    "print(\"Rješenje sustava Ax = b:\")\n",
    "print(x)\n"
   ]
  },
  {
   "cell_type": "code",
   "execution_count": 41,
   "id": "d3a8d159-1b02-4cd8-88e4-a86b4c430cdf",
   "metadata": {},
   "outputs": [
    {
     "name": "stdout",
     "output_type": "stream",
     "text": [
      "Faktorizacija Choleskog matrice A:\n",
      "[[ 2.  0.  0.]\n",
      " [ 6.  1.  0.]\n",
      " [-8.  5.  3.]]\n"
     ]
    }
   ],
   "source": [
    "#ako je A pozitivno definitna matrica dimenzija n×n, faktorizacija Choleskyja daje matricu L dimenzija n×n takvu da \n",
    "# A = LL^T\n",
    "\n",
    "import numpy as np\n",
    "\n",
    "# Definiranje pozitivno definitne matrice A\n",
    "A = np.array([[4, 12, -16], [12, 37, -43], [-16, -43, 98]])\n",
    "\n",
    "# Izračunavanje faktorizacije Choleskog\n",
    "L = np.linalg.cholesky(A)\n",
    "\n",
    "print(\"Faktorizacija Choleskog matrice A:\")\n",
    "print(L)"
   ]
  },
  {
   "cell_type": "code",
   "execution_count": 42,
   "id": "f26a9db3-62f5-4285-9f6b-9a70ef490814",
   "metadata": {},
   "outputs": [
    {
     "name": "stdout",
     "output_type": "stream",
     "text": [
      "Uvjetovanost ‖⋅‖1: 48.0\n",
      "Uvjetovanost ‖⋅‖∞: 56.0\n"
     ]
    }
   ],
   "source": [
    "#zadatak 3 \n",
    "# argument p koristimo kako bismo definirali koju normu koristimo -> 1 za l1 i ∞ za l∞\n",
    "# pomoću funkcije cond možemo izračunati uvjetovanost matrice A s različitim normama\n",
    "import numpy as np\n",
    "import scipy.linalg\n",
    "A = np.array([[5, 3, 6],\n",
    "              [6, 2, 3],\n",
    "              [4, 2, 5]], dtype=float)\n",
    "uvjetovanost_jedan = np.linalg.cond(A, p=1)\n",
    "uvjetovanost_beskonacno = np.linalg.cond(A, p=np.inf)\n",
    "\n",
    "print(\"Uvjetovanost ‖⋅‖1:\", uvjetovanost_jedan)\n",
    "print(\"Uvjetovanost ‖⋅‖∞:\", uvjetovanost_beskonacno)"
   ]
  },
  {
   "cell_type": "code",
   "execution_count": null,
   "id": "cc3f12bd-7810-476d-884c-742babc181a9",
   "metadata": {},
   "outputs": [],
   "source": []
  }
 ],
 "metadata": {
  "kernelspec": {
   "display_name": "Python 3 (ipykernel)",
   "language": "python",
   "name": "python3"
  },
  "language_info": {
   "codemirror_mode": {
    "name": "ipython",
    "version": 3
   },
   "file_extension": ".py",
   "mimetype": "text/x-python",
   "name": "python",
   "nbconvert_exporter": "python",
   "pygments_lexer": "ipython3",
   "version": "3.11.7"
  }
 },
 "nbformat": 4,
 "nbformat_minor": 5
}
