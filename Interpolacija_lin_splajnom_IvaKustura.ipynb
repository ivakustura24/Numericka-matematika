{
 "cells": [
  {
   "cell_type": "code",
   "execution_count": 19,
   "id": "d28ba9c2-d6fe-430e-8017-9a7272dcc77e",
   "metadata": {},
   "outputs": [
    {
     "name": "stdout",
     "output_type": "stream",
     "text": [
      "Broj potrebnih čvorova: 984\n",
      "Aproksimirana vrijednost: 0.026860069725291102\n",
      "Točna vrijednost: 0.026860059092130004\n",
      "Apsolutna pogreška: 1.0633161098144717e-08\n",
      "Zadana točnost je zadovoljena.\n"
     ]
    }
   ],
   "source": [
    "import numpy as np\n",
    "from scipy.interpolate import interp1d\n",
    "\n",
    "def linearna_interpolacija(funkcija, interval, epsilon):\n",
    "    a, b = interval\n",
    "    n = 1\n",
    "    while True:\n",
    "        cvorovi = np.linspace(a, b, n+1)\n",
    "        interpolator = interp1d(cvorovi, funkcija(cvorovi), kind='linear', fill_value=\"extrapolate\")\n",
    "        x_vrijednosti = np.linspace(a, b, 1000)\n",
    "        pogreska = np.max(np.abs(funkcija(x_vrijednosti) - interpolator(x_vrijednosti)))\n",
    "        if pogreska < epsilon:\n",
    "            break\n",
    "        n += 1\n",
    "    return n\n",
    "    \n",
    "def linearni_splajn_vise_tocaka(funkcija, interval, tocka, broj_tocaka):\n",
    "    x = np.linspace(interval[0], interval[1], broj_tocaka)\n",
    "    y = funkcija(x)\n",
    "    splajn = interp1d(x, y, kind='linear')\n",
    "    return splajn(tocka)\n",
    "    \n",
    "# Definicija funkcije f(x) = 1/x\n",
    "def f(x):\n",
    "    return 1 / x\n",
    "\n",
    "# Definicija intervala [1, 50] i točnosti\n",
    "interval = [1, 50]\n",
    "epsilon = 10**(-4)\n",
    "\n",
    "broj_cvorova = linearna_interpolacija(f, interval, epsilon)\n",
    "print(\"Broj potrebnih čvorova:\", broj_cvorova)\n",
    "\n",
    "broj_tocaka = 1000\n",
    "aproksimacija = linearni_splajn_vise_tocaka(f, interval, tocka, broj_tocaka)\n",
    "\n",
    "pogreska = np.abs(aproksimacija - tocna_vrijednost)\n",
    "print(\"Aproksimirana vrijednost:\", aproksimacija)\n",
    "print(\"Točna vrijednost:\", tocna_vrijednost)\n",
    "print(\"Apsolutna pogreška:\", pogreska)\n",
    "\n",
    "# Provjera zadane točnosti\n",
    "if pogreska < epsilon:\n",
    "    print(\"Zadana točnost je zadovoljena.\")\n",
    "else:\n",
    "    print(\"Zadana točnost nije zadovoljena.\")\n"
   ]
  },
  {
   "cell_type": "code",
   "execution_count": null,
   "id": "5000326a-8dbc-4041-a54c-33e682a1b4bb",
   "metadata": {},
   "outputs": [],
   "source": []
  }
 ],
 "metadata": {
  "kernelspec": {
   "display_name": "Python 3 (ipykernel)",
   "language": "python",
   "name": "python3"
  },
  "language_info": {
   "codemirror_mode": {
    "name": "ipython",
    "version": 3
   },
   "file_extension": ".py",
   "mimetype": "text/x-python",
   "name": "python",
   "nbconvert_exporter": "python",
   "pygments_lexer": "ipython3",
   "version": "3.11.7"
  }
 },
 "nbformat": 4,
 "nbformat_minor": 5
}
