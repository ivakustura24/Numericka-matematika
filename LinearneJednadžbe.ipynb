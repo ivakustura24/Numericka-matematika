{
 "cells": [
  {
   "cell_type": "code",
   "execution_count": 1,
   "id": "833f64f5-9c7a-4ce4-9dac-69f8aea051ad",
   "metadata": {},
   "outputs": [],
   "source": [
    "#[Handouts] zadatak 9. \n",
    "# dolazi do manje pogreške pri zapisu nekih brojeva u računalo te zbog toga vrijednost nije istinita \n",
    "# 0.1 ima periodičan zapis u binarnom sustavu te kad se koristi u računanju dolazi do manjih pogrešaka\n",
    "# takve pogreške su dovoljne da navedena jednakost ne bude istinita ( rezultat je približno 0.3 )"
   ]
  },
  {
   "cell_type": "code",
   "execution_count": 13,
   "id": "7d6b87b2-846f-40dd-abd9-5f37580fe978",
   "metadata": {},
   "outputs": [
    {
     "data": {
      "text/plain": [
       "9.787606036044348"
      ]
     },
     "execution_count": 13,
     "metadata": {},
     "output_type": "execute_result"
    }
   ],
   "source": [
    "#[Handouts] zadatak 15. \n",
    "import numpy as np\n",
    "N = 10000\n",
    "A = np.arange( 1, N + 1 ) \n",
    "sum(1/A)"
   ]
  },
  {
   "cell_type": "code",
   "execution_count": 12,
   "id": "44b3366f-c235-4143-8aee-fa2d33736859",
   "metadata": {},
   "outputs": [
    {
     "data": {
      "text/plain": [
       "9.787606036044386"
      ]
     },
     "execution_count": 12,
     "metadata": {},
     "output_type": "execute_result"
    }
   ],
   "source": [
    "#[Handouts] zadatak 15.\n",
    "B = np.arange(1, N + 1)\n",
    "B = B[::-1]\n",
    "sum(1/B)"
   ]
  },
  {
   "cell_type": "code",
   "execution_count": 14,
   "id": "ac533e48-ea41-47b5-8167-c2322a33735c",
   "metadata": {},
   "outputs": [],
   "source": [
    "#[Handouts] zadatak 15.\n",
    "# rezultati se razlikuju, točniji je drugi primjer gdje se zbrajaju najprije manji brojevi i tada dolazi do veće pogreške \n",
    "# potpuno jednake rezultate moguće je dobiti uz korištenje dtype = float"
   ]
  },
  {
   "cell_type": "code",
   "execution_count": 17,
   "id": "2157b54e-56ca-4100-90eb-506a592261d7",
   "metadata": {},
   "outputs": [
    {
     "name": "stdout",
     "output_type": "stream",
     "text": [
      "Rješenje sustava Ax = b je: [ 0.16666667 -2.16666667 -9.33333333 -1.33333333]\n"
     ]
    }
   ],
   "source": [
    "# zadatak 1 a)\n",
    "import numpy as np\n",
    "import scipy.linalg\n",
    "\n",
    "A = np.array([[1, -1, 0, 1],\n",
    "              [-1, 3, -1, 2],\n",
    "              [2, -4, 0, 6],\n",
    "              [1, 3, -1, 3]], dtype=float)\n",
    "\n",
    "b = np.array([1, -1, 0, 1])\n",
    "if np.linalg.det(A) == 0:\n",
    "    print(\"Matrica ne dopušta LU faktorizaciju. Nije moguće riješiti ovakav sustav.\")\n",
    "else:\n",
    "    P, L, U = scipy.linalg.lu(A)\n",
    "    y = np.linalg.solve(L, b)\n",
    "    x = np.linalg.solve(U, y)\n",
    "\n",
    "    print(\"Rješenje sustava Ax = b je:\", x)\n",
    "# koristi se scipy.linalg za dobivanje LU faktorizacije"
   ]
  },
  {
   "cell_type": "code",
   "execution_count": 18,
   "id": "84482912-6e06-48a8-b42a-1035d4631ace",
   "metadata": {},
   "outputs": [
    {
     "name": "stdout",
     "output_type": "stream",
     "text": [
      "LU faktorizacija matrice A:\n",
      "P matrica:\n",
      "[[0. 0. 0. 1.]\n",
      " [0. 0. 1. 0.]\n",
      " [1. 0. 0. 0.]\n",
      " [0. 1. 0. 0.]]\n",
      "\n",
      "L matrica:\n",
      "[[ 1.    0.    0.    0.  ]\n",
      " [ 0.5   1.    0.    0.  ]\n",
      " [-0.5   0.2   1.    0.  ]\n",
      " [ 0.5   0.2  -0.25  1.  ]]\n",
      "\n",
      "U matrica:\n",
      "[[ 2.   -4.    0.    6.  ]\n",
      " [ 0.    5.   -1.    0.  ]\n",
      " [ 0.    0.   -0.8   5.  ]\n",
      " [ 0.    0.    0.   -0.75]]\n"
     ]
    }
   ],
   "source": [
    "# zadatak 1 b)\n",
    "import numpy as np\n",
    "import scipy.linalg\n",
    "\n",
    "A = np.array([[1, -1, 0, 1],\n",
    "              [-1, 3, -1, 2],\n",
    "              [2, -4, 0, 6],\n",
    "              [1, 3, -1, 3]], dtype=float)\n",
    "P, L, U = scipy.linalg.lu(A)\n",
    "\n",
    "print(\"LU faktorizacija matrice A:\")\n",
    "print(\"P matrica:\")\n",
    "print(P)\n",
    "print(\"\\nL matrica:\")\n",
    "print(L)\n",
    "print(\"\\nU matrica:\")\n",
    "print(U)\n"
   ]
  },
  {
   "cell_type": "code",
   "execution_count": 24,
   "id": "ed282427-b1b4-4324-aadf-dc1eaff6729e",
   "metadata": {},
   "outputs": [
    {
     "name": "stdout",
     "output_type": "stream",
     "text": [
      "Rješenje sustava Ax = b je: [-1.16666667  1.16666667  6.33333333  1.33333333]\n"
     ]
    }
   ],
   "source": [
    "# zadatak 1 c) \n",
    "import numpy as np\n",
    "import scipy.linalg\n",
    "A = np.array([[1, -1, 0, 1],\n",
    "              [-1, 3, -1, 2],\n",
    "              [2, -4, 0, 6],\n",
    "              [1, 3, -1, 3]], dtype=float)\n",
    "b = np.array([1, -1, 0, 1])\n",
    "\n",
    "if np.linalg.det(A) == 0:\n",
    "    print(\"Nije moguće riješiti sustav.\")\n",
    "else:\n",
    "    P, L, U = scipy.linalg.lu(A)\n",
    "    b = b.reshape(-1, 1)\n",
    "    y = np.linalg.solve(L, np.dot(P, b))\n",
    "    x = np.linalg.solve(U, y)\n",
    "\n",
    "    print(\"Rješenje sustava Ax = b je:\", x.flatten())\n",
    "\n"
   ]
  },
  {
   "cell_type": "code",
   "execution_count": 25,
   "id": "d6c12b57-b854-4dfc-aac4-ac432b54b217",
   "metadata": {},
   "outputs": [
    {
     "name": "stdout",
     "output_type": "stream",
     "text": [
      "Matrica A dopušta LU faktorizaciju.\n"
     ]
    }
   ],
   "source": [
    "# zadatak 2 a)\n",
    "# najprije provjeravamo jesu li dijagonalni elementi matrice L jednaki 0 - ako jesu, nije moguće izvršiti faktorizaciju\n",
    "import numpy as np\n",
    "import scipy.linalg\n",
    "A = np.array([[0, 0, 2, 2],\n",
    "              [2, 2, 4, 2],\n",
    "              [1, 2, 1, -1],\n",
    "              [-1, 1, -1, 5]], dtype=float)\n",
    "\n",
    "if np.linalg.det(A) == 0:\n",
    "    print(\"Ne dopušta LU faktorizaciju.\")\n",
    "else:\n",
    "    try:\n",
    "        P, L, U = scipy.linalg.lu(A)\n",
    "        print(\"Matrica A dopušta LU faktorizaciju.\")\n",
    "    except scipy.linalg.LinAlgError:\n",
    "        print(\"Matrica A ne dopušta LU faktorizaciju.\")\n"
   ]
  },
  {
   "cell_type": "code",
   "execution_count": 38,
   "id": "8e902a6f-44e6-43aa-b1f2-7345a59f05e1",
   "metadata": {},
   "outputs": [
    {
     "name": "stdout",
     "output_type": "stream",
     "text": [
      "Permutacijska matrica P:\n",
      "[[ 0.    0.    1.    0.  ]\n",
      " [ 1.    0.    0.    0.  ]\n",
      " [ 0.5   0.5  -0.75  1.  ]\n",
      " [-0.5   1.    0.    0.  ]]\n",
      "\n",
      "Donja trokutasta matrica L:\n",
      "[[1. 0. 0. 0.]\n",
      " [0. 1. 0. 0.]\n",
      " [0. 0. 1. 0.]\n",
      " [0. 0. 0. 1.]]\n",
      "\n",
      "Gornja trokutasta matrica U:\n",
      "[[ 2.   2.   4.   2. ]\n",
      " [ 0.   2.   1.   6. ]\n",
      " [ 0.   0.   2.   2. ]\n",
      " [ 0.   0.   0.  -3.5]]\n",
      "\n",
      "Rješenje sustava Ax = b je: [-2.375  6.875  0.25  -2.   ]\n"
     ]
    }
   ],
   "source": [
    "# zadatak 2 b) i c)\n",
    "# kako bismo omogućili parcijalno pivotiranje, postavljamo parametar permute_l na \"true\"\n",
    "# ostatak koda je izračun P, L i U matrica\n",
    "# zbog korištenja parametra za parcijalno pivotiranje, možemo dobiti jedino LU te je zbog toga potrebno još razdvojiti gornje trokutastu i donje trokutastu matricu\n",
    "# koristimo funkcije tril i triu za razdvajanje L i U \n",
    "# np.eye kreira matricu jedinicama na dijagonali i nulama izvan dijagonale ( matrica je n x n ) \n",
    "import numpy as np\n",
    "import scipy.linalg\n",
    "\n",
    "A = np.array([[0, 0, 2, 2],\n",
    "              [2, 2, 4, 2],\n",
    "              [1, 2, 1, -1],\n",
    "              [-1, 1, -1, 5]], dtype=float)\n",
    "b = np.array([2, 8, 6, -4])\n",
    "P, LU = scipy.linalg.lu(A, permute_l=True)\n",
    "\n",
    "n = len(A)\n",
    "L = np.tril(LU, k=-1) + np.eye(n)\n",
    "U = np.triu(LU)\n",
    "\n",
    "print(\"Permutacijska matrica P:\")\n",
    "print(P)\n",
    "print(\"\\nDonja trokutasta matrica L:\")\n",
    "print(L)\n",
    "print(\"\\nGornja trokutasta matrica U:\")\n",
    "print(U)\n",
    "\n",
    "# c)\n",
    "# funkcija reshape koristi se za transponiranje matrice b \n",
    "b = b.reshape(-1, 1)\n",
    "y = np.linalg.solve(L, np.dot(P, b))\n",
    "x = np.linalg.solve(U, y)\n",
    "\n",
    "print(\"\\nRješenje sustava Ax = b je:\", x.flatten())\n"
   ]
  },
  {
   "cell_type": "code",
   "execution_count": 46,
   "id": "a1093a3f-2e01-4e38-baac-4324510b4ab0",
   "metadata": {},
   "outputs": [
    {
     "name": "stdout",
     "output_type": "stream",
     "text": [
      "Uvjetovanost ‖⋅‖1: 48.0\n",
      "Uvjetovanost ‖⋅‖∞: 56.0\n"
     ]
    }
   ],
   "source": [
    "#zadatak 3 \n",
    "# argument p koristimo kako bismo definirali koju normu koristimo -> 1 za l1 i ∞ za l∞\n",
    "# pomoću funkcije cond možemo izračunati uvjetovanost matrice A s različitim normama\n",
    "import numpy as np\n",
    "import scipy.linalg\n",
    "A = np.array([[5, 3, 6],\n",
    "              [6, 2, 3],\n",
    "              [4, 2, 5]], dtype=float)\n",
    "uvjetovanost_jedan = np.linalg.cond(A, p=1)\n",
    "uvjetovanost_beskonacno = np.linalg.cond(A, p=np.inf)\n",
    "\n",
    "print(\"Uvjetovanost ‖⋅‖1:\", uvjetovanost_jedan)\n",
    "print(\"Uvjetovanost ‖⋅‖∞:\", uvjetovanost_beskonacno)\n"
   ]
  },
  {
   "cell_type": "code",
   "execution_count": 57,
   "id": "4e76c11e-0d0e-4c9e-bc11-c5fe93bec626",
   "metadata": {},
   "outputs": [
    {
     "ename": "OverflowError",
     "evalue": "Python int too large to convert to C long",
     "output_type": "error",
     "traceback": [
      "\u001b[1;31m---------------------------------------------------------------------------\u001b[0m",
      "\u001b[1;31mOverflowError\u001b[0m                             Traceback (most recent call last)",
      "Cell \u001b[1;32mIn[57], line 26\u001b[0m\n\u001b[0;32m     22\u001b[0m A \u001b[38;5;241m=\u001b[39m np\u001b[38;5;241m.\u001b[39marray([[\u001b[38;5;241m1e-17\u001b[39m, \u001b[38;5;241m1\u001b[39m],\n\u001b[0;32m     23\u001b[0m               [\u001b[38;5;241m1\u001b[39m, \u001b[38;5;241m1\u001b[39m]])\n\u001b[0;32m     24\u001b[0m b \u001b[38;5;241m=\u001b[39m np\u001b[38;5;241m.\u001b[39marray([\u001b[38;5;241m1\u001b[39m, \u001b[38;5;241m2\u001b[39m])\n\u001b[1;32m---> 26\u001b[0m rjesenje \u001b[38;5;241m=\u001b[39m gauss_elimination(A, b)\n\u001b[0;32m     27\u001b[0m \u001b[38;5;28mprint\u001b[39m(\u001b[38;5;124m\"\u001b[39m\u001b[38;5;124mrješenje:\u001b[39m\u001b[38;5;124m\"\u001b[39m, rjesenje)\n",
      "Cell \u001b[1;32mIn[57], line 12\u001b[0m, in \u001b[0;36mgauss_elimination\u001b[1;34m(A, b)\u001b[0m\n\u001b[0;32m     10\u001b[0m         \u001b[38;5;28;01mfor\u001b[39;00m col \u001b[38;5;129;01min\u001b[39;00m \u001b[38;5;28mrange\u001b[39m(pivot_row, n):\n\u001b[0;32m     11\u001b[0m             A[row][col] \u001b[38;5;241m-\u001b[39m\u001b[38;5;241m=\u001b[39m factor \u001b[38;5;241m*\u001b[39m A[pivot_row][col]\n\u001b[1;32m---> 12\u001b[0m         b[row] \u001b[38;5;241m-\u001b[39m\u001b[38;5;241m=\u001b[39m factor \u001b[38;5;241m*\u001b[39m b[pivot_row]\n\u001b[0;32m     14\u001b[0m x \u001b[38;5;241m=\u001b[39m [\u001b[38;5;241m0\u001b[39m] \u001b[38;5;241m*\u001b[39m n\n\u001b[0;32m     15\u001b[0m \u001b[38;5;28;01mfor\u001b[39;00m i \u001b[38;5;129;01min\u001b[39;00m \u001b[38;5;28mrange\u001b[39m(n\u001b[38;5;241m-\u001b[39m\u001b[38;5;241m1\u001b[39m, \u001b[38;5;241m-\u001b[39m\u001b[38;5;241m1\u001b[39m, \u001b[38;5;241m-\u001b[39m\u001b[38;5;241m1\u001b[39m):\n",
      "\u001b[1;31mOverflowError\u001b[0m: Python int too large to convert to C long"
     ]
    }
   ],
   "source": [
    "# zadatak 4 - notebook datoteka s Moodle-a\n",
    "# pomoću ovog primjera s algoritmom Gaussovih eleminacija ne možemo dobiti rješenje jer je matrica blizu singularnosti \n",
    "# potrebno je koristiti djelomično pivotiranje kako bismo dobili rezultate \n",
    "import numpy as np\n",
    "\n",
    "def gauss_elimination(A, b):\n",
    "    n = len(A)\n",
    "    for pivot_row in range(n-1):\n",
    "        for row in range(pivot_row+1, n):\n",
    "            factor = A[row][pivot_row] / A[pivot_row][pivot_row]\n",
    "            for col in range(pivot_row, n):\n",
    "                A[row][col] -= factor * A[pivot_row][col]\n",
    "            b[row] -= factor * b[pivot_row]\n",
    "\n",
    "    x = [0] * n\n",
    "    for i in range(n-1, -1, -1):\n",
    "        x[i] = b[i] / A[i][i]\n",
    "        for j in range(i+1, n):\n",
    "            x[i] = x[i] - A[i][j] * x[j] / A[i][i]\n",
    "\n",
    "    return x\n",
    "\n",
    "A = np.array([[1e-17, 1],\n",
    "              [1, 1]])\n",
    "b = np.array([1, 2])\n",
    "\n",
    "rjesenje = gauss_elimination(A, b)\n",
    "print(\"rješenje:\", rjesenje)"
   ]
  },
  {
   "cell_type": "code",
   "execution_count": 58,
   "id": "81e93540-06dc-4a6e-9c41-9a849df8bc34",
   "metadata": {},
   "outputs": [
    {
     "name": "stdout",
     "output_type": "stream",
     "text": [
      "Rješenje sustava Ax = b je: [1. 1.]\n"
     ]
    }
   ],
   "source": [
    "# zadatak 4 - 1. način \n",
    "# djelomično pivotiranje \n",
    "import numpy as np\n",
    "import scipy.linalg\n",
    "\n",
    "A = np.array([[1e-17, 1], [1, 1]])\n",
    "b = np.array([1, 2])\n",
    "\n",
    "P, L, U = scipy.linalg.lu(A)\n",
    "\n",
    "y = np.linalg.solve(L, np.dot(P, b))\n",
    "x = np.linalg.solve(U, y)\n",
    "\n",
    "print(\"Rješenje sustava Ax = b je:\", x)\n"
   ]
  },
  {
   "cell_type": "code",
   "execution_count": 59,
   "id": "7dbf74a6-c05e-4604-8c39-9275bdd7ee61",
   "metadata": {},
   "outputs": [
    {
     "name": "stdout",
     "output_type": "stream",
     "text": [
      "Rjesenje: [1. 1.]\n"
     ]
    }
   ],
   "source": [
    "# zadatak 4 - 2. način ( primjer iz notebook datoteke s Moodle-a )\n",
    "# djelomično pivotiranje \n",
    "# dobivamo ista rješenja kao na prvi način, a u usporedbi s primjerom bez pivotiranja - daje rezultat \n",
    "\n",
    "def gauss_elimination_pivot(A, b):\n",
    "    n = len(b)\n",
    "\n",
    "    # Augmented matrix\n",
    "    M = np.concatenate((A, b.reshape(n, 1)), axis=1)\n",
    "\n",
    "    # Forward elimination\n",
    "    for i in range(n):\n",
    "        # Partial pivoting\n",
    "        max_row = i\n",
    "        for k in range(i+1, n):\n",
    "            if abs(M[k][i]) > abs(M[max_row][i]):\n",
    "                max_row = k\n",
    "        M[[i, max_row]] = M[[max_row, i]]  # Swap rows\n",
    "\n",
    "        # Elimination step\n",
    "        for j in range(i+1, n):\n",
    "            ratio = M[j][i] / M[i][i]\n",
    "            M[j] -= ratio * M[i]\n",
    "\n",
    "    # Back substitution\n",
    "    x = np.zeros(n)\n",
    "    for i in range(n-1, -1, -1):\n",
    "        x[i] = M[i][n] / M[i][i]\n",
    "        for k in range(i-1, -1, -1):\n",
    "            M[k][n] -= M[k][i] * x[i]\n",
    "\n",
    "    return x\n",
    "\n",
    "# Example usage:\n",
    "A = np.array([[1e-17, 1], [1, 1]])\n",
    "b = np.array([1, 2])\n",
    "\n",
    "x = gauss_elimination_pivot(A, b)\n",
    "print(\"Rjesenje:\", x)"
   ]
  },
  {
   "cell_type": "code",
   "execution_count": 61,
   "id": "cb868b1f-0f1b-4124-8cf5-5527e1ae890a",
   "metadata": {},
   "outputs": [
    {
     "name": "stdout",
     "output_type": "stream",
     "text": [
      "Rješenje sustava korištenjem gotove funkcije : [1. 1.]\n"
     ]
    }
   ],
   "source": [
    "# zadatak 4 - uz pomoć gotove funkcije numpy.linalg.solve \n",
    "# dobivamo ista rješenja kao u prethodna dva primjera\n",
    "import numpy as np\n",
    "\n",
    "A = np.array([[1e-17, 1], [1, 1]])\n",
    "b = np.array([1, 2])\n",
    "\n",
    "x_numpy = np.linalg.solve(A, b)\n",
    "\n",
    "print(\"Rješenje sustava korištenjem gotove funkcije :\", x_numpy)\n"
   ]
  },
  {
   "cell_type": "code",
   "execution_count": null,
   "id": "741573ed-dcde-4e22-b42b-8a4a34d774b2",
   "metadata": {},
   "outputs": [],
   "source": []
  }
 ],
 "metadata": {
  "kernelspec": {
   "display_name": "Python 3 (ipykernel)",
   "language": "python",
   "name": "python3"
  },
  "language_info": {
   "codemirror_mode": {
    "name": "ipython",
    "version": 3
   },
   "file_extension": ".py",
   "mimetype": "text/x-python",
   "name": "python",
   "nbconvert_exporter": "python",
   "pygments_lexer": "ipython3",
   "version": "3.11.7"
  }
 },
 "nbformat": 4,
 "nbformat_minor": 5
}
