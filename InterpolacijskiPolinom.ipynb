{
 "cells": [
  {
   "cell_type": "code",
   "execution_count": 2,
   "id": "def0e27b-3a5c-4182-9ef6-c6b54ffa5e48",
   "metadata": {},
   "outputs": [
    {
     "name": "stdout",
     "output_type": "stream",
     "text": [
      "Lagrangeov interpolacijski polinom:\n",
      "   4     3     2\n",
      "1 x - 1 x + 2 x - 3\n"
     ]
    }
   ],
   "source": [
    "from scipy.interpolate import lagrange\n",
    "\n",
    "# Definicija točaka\n",
    "x_values = [-1, 1, 2, 3, 4]\n",
    "y_values = [1, -1, 13, 69, 221]\n",
    "\n",
    "# Izračunavanje Lagrangeovog interpolacijskog polinoma\n",
    "polynomial = lagrange(x_values, y_values)\n",
    "\n",
    "# Ispis polinoma\n",
    "print(\"Lagrangeov interpolacijski polinom:\")\n",
    "print(polynomial)\n"
   ]
  },
  {
   "cell_type": "code",
   "execution_count": 5,
   "id": "647f4a9e-ac74-49be-a312-f033a03415f2",
   "metadata": {},
   "outputs": [
    {
     "name": "stdout",
     "output_type": "stream",
     "text": [
      "Newtonov interpolacijski polinom:\n",
      "1.0*x**4 - 1.0*x**3 + 2.0*x**2 - 3.0\n"
     ]
    }
   ],
   "source": [
    "import numpy as np\n",
    "from sympy import symbols, expand, Rational\n",
    "\n",
    "def newton_interpolation_polynomial_coefficients(x, y):\n",
    "    \"\"\"\n",
    "    Računa koeficijente Newtonovog interpolacijskog polinoma kroz zadane točke.\n",
    "\n",
    "    Parametri:\n",
    "    x (array): Niz x-koordinata točaka.\n",
    "    y (array): Niz y-koordinata točaka.\n",
    "\n",
    "    Rezultat:\n",
    "    numpy.ndarray: Koeficijenti Newtonovog interpolacijskog polinoma.\n",
    "    \"\"\"\n",
    "    n = len(x)\n",
    "    table = np.zeros((n, n))\n",
    "    table[:, 0] = y\n",
    "\n",
    "    for j in range(1, n):\n",
    "        for i in range(n - j):\n",
    "            table[i, j] = (table[i + 1, j - 1] - table[i, j - 1]) / (x[i + j] - x[i])\n",
    "\n",
    "    coefficients = table[0, :]  # Koeficijenti b0, b1, ..., bk\n",
    "    return coefficients\n",
    "\n",
    "def newton_interpolation_polynomial(x, coefficients, x_symbol):\n",
    "    \"\"\"\n",
    "    Računa Newtonov interpolacijski polinom koristeći zadane koeficijente.\n",
    "\n",
    "    Parametri:\n",
    "    x (array): Niz x-koordinata točaka.\n",
    "    coefficients (array): Koeficijenti Newtonovog interpolacijskog polinoma.\n",
    "    x_symbol (sympy.Symbol): Simbol koji predstavlja varijablu x.\n",
    "\n",
    "    Rezultat:\n",
    "    sympy.Expr: Newtonov interpolacijski polinom.\n",
    "    \"\"\"\n",
    "    n = len(coefficients)\n",
    "    x_terms = [1]  # Početni član polinoma (konstanta)\n",
    "    P = coefficients[0]  # Početni izraz polinoma\n",
    "\n",
    "    for j in range(1, n):\n",
    "        x_terms.append(x_terms[-1] * (x_symbol - x[j - 1]))\n",
    "        P += coefficients[j] * x_terms[-1]\n",
    "\n",
    "    return expand(P)\n",
    "\n",
    "# Zadane točke za interpolaciju\n",
    "x_points = np.array([-1, 1, 2, 3, 4])\n",
    "y_points = np.array([1, -1, 13, 69, 221])\n",
    "\n",
    "# Računanje koeficijenata Newtonovog interpolacijskog polinoma\n",
    "coefficients = newton_interpolation_polynomial_coefficients(x_points, y_points)\n",
    "\n",
    "# Simbol za varijablu x\n",
    "x_symbol = symbols('x')\n",
    "\n",
    "# Računanje Newtonovog interpolacijskog polinoma kao sympy.Expr\n",
    "interpolation_polynomial = newton_interpolation_polynomial(x_points, coefficients, x_symbol)\n",
    "\n",
    "# Ispis rezultata kao string\n",
    "print(\"Newtonov interpolacijski polinom:\")\n",
    "print(interpolation_polynomial)"
   ]
  },
  {
   "cell_type": "code",
   "execution_count": null,
   "id": "cc8e9965-9039-40ee-ab85-1c7caa481ffb",
   "metadata": {},
   "outputs": [],
   "source": []
  }
 ],
 "metadata": {
  "kernelspec": {
   "display_name": "Python 3 (ipykernel)",
   "language": "python",
   "name": "python3"
  },
  "language_info": {
   "codemirror_mode": {
    "name": "ipython",
    "version": 3
   },
   "file_extension": ".py",
   "mimetype": "text/x-python",
   "name": "python",
   "nbconvert_exporter": "python",
   "pygments_lexer": "ipython3",
   "version": "3.11.7"
  }
 },
 "nbformat": 4,
 "nbformat_minor": 5
}
