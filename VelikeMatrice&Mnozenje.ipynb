{
 "cells": [
  {
   "cell_type": "code",
   "execution_count": 1,
   "id": "cd5e81a9-ae9a-4b7c-aef4-034ebe43a1d0",
   "metadata": {},
   "outputs": [
    {
     "name": "stdout",
     "output_type": "stream",
     "text": [
      "[[1. 3. 3. 3. 3.]\n",
      " [4. 1. 3. 3. 3.]\n",
      " [4. 4. 1. 3. 3.]\n",
      " [4. 4. 4. 1. 3.]\n",
      " [4. 4. 4. 4. 1.]]\n"
     ]
    }
   ],
   "source": [
    "import numpy as np\n",
    "\n",
    "# Postavljanje veličine matrice\n",
    "n = 5\n",
    "\n",
    "# Inicijalizacija matrice s nulama\n",
    "A = np.zeros((n, n))\n",
    "\n",
    "# Postavljanje jedinica na dijagonali\n",
    "np.fill_diagonal(A, 1)\n",
    "\n",
    "# Postavljanje trojki iznad dijagonale\n",
    "for i in range(n):\n",
    "    for j in range (n):\n",
    "        if(i<j):\n",
    "            A[i, j] = 3\n",
    "        if(i>j):\n",
    "            A[i,j] = 4\n",
    "\n",
    "# Postavljanje dvojki ispod dijagonale\n",
    "#for i in range(1, n):\n",
    "   # A[i, i-1] = 2\n",
    "\n",
    "print(A)"
   ]
  },
  {
   "cell_type": "code",
   "execution_count": 5,
   "id": "ba2ff674-d092-4228-87ed-ecd701adbf3d",
   "metadata": {},
   "outputs": [
    {
     "name": "stdout",
     "output_type": "stream",
     "text": [
      "[[ 8.  8.  8. ...  8.  8.  8.]\n",
      " [12. 12. 12. ... 12. 12. 12.]\n",
      " [12. 12. 12. ... 12. 12. 12.]\n",
      " ...\n",
      " [12. 12. 12. ... 12. 12. 12.]\n",
      " [12. 12. 12. ... 12. 12. 12.]\n",
      " [ 6.  6.  6. ...  6.  6.  6.]]\n",
      "[[16. 16. 16. ... 16. 16. 16.]\n",
      " [24. 24. 24. ... 24. 24. 24.]\n",
      " [24. 24. 24. ... 24. 24. 24.]\n",
      " ...\n",
      " [24. 24. 24. ... 24. 24. 24.]\n",
      " [24. 24. 24. ... 24. 24. 24.]\n",
      " [12. 12. 12. ... 12. 12. 12.]]\n"
     ]
    }
   ],
   "source": [
    "import numpy as np\n",
    "\n",
    "# Generiranje matrice 50x50 s jedinicama na dijagonali, trojkama iznad dijagonale i dvojkama ispod dijagonale\n",
    "n = 50\n",
    "A = np.zeros((n, n))\n",
    "np.fill_diagonal(A, 1)\n",
    "for i in range(n-1):\n",
    "    A[i, i+1] = 3\n",
    "for i in range(1, n):\n",
    "    A[i, i-1] = 2\n",
    "\n",
    "# Generiranje druge matrice 50x50 s elementima 2\n",
    "B = np.full((n, n), 2)\n",
    "\n",
    "# Matrično množenje\n",
    "C = np.matmul(A, B)\n",
    "# množenje matrica skalarom \n",
    "D  = C * 2 \n",
    "\n",
    "print(C)\n",
    "print(D)"
   ]
  },
  {
   "cell_type": "code",
   "execution_count": 6,
   "id": "04ae7b76-17f9-4de5-98f3-d244ae695935",
   "metadata": {},
   "outputs": [
    {
     "name": "stdout",
     "output_type": "stream",
     "text": [
      "Originalna matrica A:\n",
      "[[1 2 3]\n",
      " [4 5 6]\n",
      " [7 8 9]]\n",
      "\n",
      "Transponirana matrica A:\n",
      "[[1 4 7]\n",
      " [2 5 8]\n",
      " [3 6 9]]\n",
      "\n",
      "Transponirana matrica A (alternativni način):\n",
      "[[1 4 7]\n",
      " [2 5 8]\n",
      " [3 6 9]]\n"
     ]
    }
   ],
   "source": [
    "import numpy as np\n",
    "\n",
    "# Primjer matrice\n",
    "A = np.array([[1, 2, 3],\n",
    "              [4, 5, 6],\n",
    "              [7, 8, 9]])\n",
    "\n",
    "# Transponiranje matrice pomocu atributa T\n",
    "A_transpose = A.T\n",
    "\n",
    "# Transponiranje matrice pomocu funkcije np.transpose()\n",
    "A_transpose_alt = np.transpose(A)\n",
    "\n",
    "print(\"Originalna matrica A:\")\n",
    "print(A)\n",
    "print(\"\\nTransponirana matrica A:\")\n",
    "print(A_transpose)\n",
    "print(\"\\nTransponirana matrica A (alternativni način):\")\n",
    "print(A_transpose_alt)"
   ]
  },
  {
   "cell_type": "code",
   "execution_count": 10,
   "id": "9241d65b-1a25-439b-b55d-1dba25b42eae",
   "metadata": {},
   "outputs": [
    {
     "name": "stdout",
     "output_type": "stream",
     "text": [
      "Binarni zapis broja 3.75: 01000000011100000000000000000000\n"
     ]
    }
   ],
   "source": [
    "import struct\n",
    "\n",
    "# Broj koji želimo predstaviti\n",
    "number = 3.75\n",
    "\n",
    "# Konvertiramo broj u 32-bitni float\n",
    "binary_representation = struct.pack('>f', number)\n",
    "\n",
    "# Konvertiramo 32-bitni float u binarni zapis\n",
    "binary_string = ''.join(f'{byte:08b}' for byte in binary_representation)\n",
    "\n",
    "# Ispis binarnog zapisa\n",
    "print(\"Binarni zapis broja 3.75:\", binary_string)\n"
   ]
  },
  {
   "cell_type": "code",
   "execution_count": 13,
   "id": "d5f98bd5-c5b1-492e-89b1-4acba970490a",
   "metadata": {},
   "outputs": [
    {
     "name": "stdout",
     "output_type": "stream",
     "text": [
      "Rezultat: -3.5\n"
     ]
    }
   ],
   "source": [
    "# Binarni zapis znaka, eksponenta i mantise\n",
    "binary_sign = '1'\n",
    "binary_exponent = '10000000'\n",
    "binary_mantissa = '11000000000000000000000'\n",
    "\n",
    "# Pretvorba binarnog znaka u decimalni broj\n",
    "sign = int(binary_sign, 2)\n",
    "\n",
    "# Pretvorba binarnog eksponenta u decimalni broj\n",
    "exponent = int(binary_exponent, 2)\n",
    "\n",
    "# Pretvorba binarne mantise u decimalni broj\n",
    "mantissa = int(binary_mantissa, 2)\n",
    "\n",
    "# Pretvaranje u float\n",
    "result = (-1) ** sign * (1 + mantissa / 2**23) * 2**(exponent - 127)\n",
    "\n",
    "# Ispis rezultata\n",
    "print(\"Rezultat:\", result)\n"
   ]
  },
  {
   "cell_type": "code",
   "execution_count": null,
   "id": "eae4fe6f-08cb-408f-b891-78df9e7bbf3c",
   "metadata": {},
   "outputs": [],
   "source": []
  }
 ],
 "metadata": {
  "kernelspec": {
   "display_name": "Python 3 (ipykernel)",
   "language": "python",
   "name": "python3"
  },
  "language_info": {
   "codemirror_mode": {
    "name": "ipython",
    "version": 3
   },
   "file_extension": ".py",
   "mimetype": "text/x-python",
   "name": "python",
   "nbconvert_exporter": "python",
   "pygments_lexer": "ipython3",
   "version": "3.11.7"
  }
 },
 "nbformat": 4,
 "nbformat_minor": 5
}
